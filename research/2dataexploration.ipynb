{
 "cells": [
  {
   "cell_type": "code",
   "execution_count": 1,
   "metadata": {},
   "outputs": [
    {
     "data": {
      "text/plain": [
       "'c:\\\\Users\\\\rvaib\\\\OneDrive\\\\Desktop\\\\toxiccommentclassification'"
      ]
     },
     "execution_count": 1,
     "metadata": {},
     "output_type": "execute_result"
    }
   ],
   "source": [
    "import os\n",
    "os.chdir(\"../\")\n",
    "%pwd"
   ]
  },
  {
   "cell_type": "code",
   "execution_count": 2,
   "metadata": {},
   "outputs": [],
   "source": [
    "from dataclasses import dataclass\n",
    "from pathlib import Path "
   ]
  },
  {
   "cell_type": "code",
   "execution_count": 3,
   "metadata": {},
   "outputs": [],
   "source": [
    "@dataclass(frozen=True)\n",
    "class DataExplorationConfig:\n",
    "    root_dir: Path\n",
    "    train_dataset: Path\n",
    "    test_dataset: Path\n",
    "    train_corpus: Path\n",
    "    test_corpus: Path"
   ]
  },
  {
   "cell_type": "code",
   "execution_count": 4,
   "metadata": {},
   "outputs": [],
   "source": [
    "from src.toxiccommentclassifier.constants import *\n",
    "from src.toxiccommentclassifier import logger\n",
    "from src.toxiccommentclassifier.utils.common import read_yaml, create_directories"
   ]
  },
  {
   "cell_type": "code",
   "execution_count": 5,
   "metadata": {},
   "outputs": [],
   "source": [
    "class ConfigurationManager:\n",
    "    def __init__(\n",
    "         self,\n",
    "         config_filepath = CONFIG_FILE_PATH,\n",
    "         params_filepath = PARAMS_FILE_PATH):\n",
    "\n",
    "         self.config =  read_yaml(config_filepath)\n",
    "         self.params =  read_yaml(params_filepath)   \n",
    "         create_directories([self.config.artifacts_root])\n",
    "    \n",
    "    def get_data_exploration_config(self) -> DataExplorationConfig:\n",
    "         config =self.config.data_exploration\n",
    "\n",
    "         create_directories([config.root_dir])\n",
    "         \n",
    "         data_exploration_config =DataExplorationConfig(\n",
    "              root_dir=config.root_dir,\n",
    "              train_dataset=config.train_dataset,\n",
    "              test_dataset=config.test_dataset,\n",
    "              train_corpus=config.train_corpus,\n",
    "              test_corpus=config.test_corpus\n",
    "         )\n",
    "         \n",
    "         return data_exploration_config"
   ]
  },
  {
   "cell_type": "code",
   "execution_count": 6,
   "metadata": {},
   "outputs": [],
   "source": [
    "import pandas as pd"
   ]
  },
  {
   "cell_type": "code",
   "execution_count": 23,
   "metadata": {},
   "outputs": [],
   "source": [
    "class DataExploration:\n",
    "    def __init__(self,config:DataExplorationConfig): \n",
    "        self.config =config\n",
    "\n",
    "    def data_trim(self):\n",
    "        \n",
    "        train_df = pd.read_csv(self.config.train_dataset)\n",
    "        test_df =pd.read_csv(self.config.test_dataset)\n",
    "        # logger.info(train_df.shape)\n",
    "        train_corpus =train_df.sample(n=10000,random_state=42)\n",
    "        test_corpus =test_df.sample(n=2000,random_state=42)\n",
    "        # logger.info(train_corpus.shape)\n",
    "        train_corpus.to_csv(self.config.train_corpus, index=False)\n",
    "        test_corpus.to_csv(self.config.test_corpus,index=False)\n",
    "    \n",
    "    def explore(self):\n",
    "        train_data =pd.read_csv(self.config.train_corpus)\n",
    "        print(train_data.info())\n",
    "        print(train_data.shape)\n",
    "        "
   ]
  },
  {
   "cell_type": "code",
   "execution_count": 24,
   "metadata": {},
   "outputs": [
    {
     "name": "stdout",
     "output_type": "stream",
     "text": [
      "[2024-02-26 21:01:54,180: INFO: common: yaml file: config\\config.yaml loaded successfully]\n",
      "[2024-02-26 21:01:54,180: INFO: common: yaml file: params.yaml loaded successfully]\n",
      "[2024-02-26 21:01:54,185: INFO: common: created directory at: artifacts]\n",
      "[2024-02-26 21:01:54,187: INFO: common: created directory at: artifacts\\data_exploration]\n",
      "<class 'pandas.core.frame.DataFrame'>\n",
      "RangeIndex: 10000 entries, 0 to 9999\n",
      "Data columns (total 8 columns):\n",
      " #   Column         Non-Null Count  Dtype \n",
      "---  ------         --------------  ----- \n",
      " 0   id             10000 non-null  object\n",
      " 1   comment_text   10000 non-null  object\n",
      " 2   toxic          10000 non-null  int64 \n",
      " 3   severe_toxic   10000 non-null  int64 \n",
      " 4   obscene        10000 non-null  int64 \n",
      " 5   threat         10000 non-null  int64 \n",
      " 6   insult         10000 non-null  int64 \n",
      " 7   identity_hate  10000 non-null  int64 \n",
      "dtypes: int64(6), object(2)\n",
      "memory usage: 625.1+ KB\n",
      "None\n",
      "(10000, 8)\n",
      "(10000, 8)\n"
     ]
    }
   ],
   "source": [
    "try:\n",
    "    config =ConfigurationManager()\n",
    "    data_exploration_config =config.get_data_exploration_config()\n",
    "    data_exploration= DataExploration(config=data_exploration_config)\n",
    "    data_exploration.data_trim()\n",
    "    data_exploration.explore()\n",
    "\n",
    "except Exception as e:\n",
    "    raise e"
   ]
  }
 ],
 "metadata": {
  "kernelspec": {
   "display_name": "toxicsenv",
   "language": "python",
   "name": "python3"
  },
  "language_info": {
   "codemirror_mode": {
    "name": "ipython",
    "version": 3
   },
   "file_extension": ".py",
   "mimetype": "text/x-python",
   "name": "python",
   "nbconvert_exporter": "python",
   "pygments_lexer": "ipython3",
   "version": "3.8.18"
  }
 },
 "nbformat": 4,
 "nbformat_minor": 2
}
