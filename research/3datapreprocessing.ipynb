{
 "cells": [
  {
   "cell_type": "code",
   "execution_count": 1,
   "metadata": {},
   "outputs": [
    {
     "data": {
      "text/plain": [
       "'c:\\\\Users\\\\rvaib\\\\OneDrive\\\\Desktop\\\\toxiccommentclassification'"
      ]
     },
     "execution_count": 1,
     "metadata": {},
     "output_type": "execute_result"
    }
   ],
   "source": [
    "import os\n",
    "os.chdir(\"../\")\n",
    "%pwd"
   ]
  },
  {
   "cell_type": "code",
   "execution_count": 2,
   "metadata": {},
   "outputs": [],
   "source": [
    "from dataclasses import dataclass\n",
    "from pathlib import Path \n"
   ]
  },
  {
   "cell_type": "code",
   "execution_count": 3,
   "metadata": {},
   "outputs": [],
   "source": [
    "@dataclass(frozen=True)\n",
    "class DataPreprocessingConfig:\n",
    "    root_dir: Path\n",
    "    train_dataset: Path\n",
    "    test_dataset: Path"
   ]
  },
  {
   "cell_type": "code",
   "execution_count": 4,
   "metadata": {},
   "outputs": [],
   "source": [
    "from src.toxiccommentclassifier.constants import *\n",
    "from src.toxiccommentclassifier.utils.common import read_yaml, create_directories"
   ]
  },
  {
   "cell_type": "code",
   "execution_count": 5,
   "metadata": {},
   "outputs": [],
   "source": [
    "class ConfigurationManager:\n",
    "    def __init__(\n",
    "         self,\n",
    "         config_filepath = CONFIG_FILE_PATH,\n",
    "         params_filepath = PARAMS_FILE_PATH):\n",
    "\n",
    "         self.config =  read_yaml(config_filepath)\n",
    "         self.params =  read_yaml(params_filepath)   \n",
    "         create_directories([self.config.artifacts_root])\n",
    "    \n",
    "    def get_data_preprocessing_config(self) -> DataPreprocessingConfig:\n",
    "         config =self.config.data_preprocessing\n",
    "\n",
    "         create_directories([config.root_dir])\n",
    "         \n",
    "         data_preprocessing_config =DataPreprocessingConfig(\n",
    "              root_dir=config.root_dir,\n",
    "              train_dataset=config.train_dataset,\n",
    "              test_dataset=config.test_dataset\n",
    "         )\n",
    "         \n",
    "         return data_preprocessing_config"
   ]
  },
  {
   "cell_type": "code",
   "execution_count": 6,
   "metadata": {},
   "outputs": [],
   "source": [
    "import pandas as pd\n",
    "from wordcloud import WordCloud, STOPWORDS\n",
    "\n",
    "import matplotlib.pyplot as plt"
   ]
  },
  {
   "cell_type": "code",
   "execution_count": 7,
   "metadata": {},
   "outputs": [],
   "source": [
    "class DataPreprocessing:\n",
    "    def __init__(self,config:DataPreprocessingConfig): \n",
    "        self.config =config\n",
    "\n",
    "    def load_file(self):\n",
    "        train_df =self.config.train_dataset\n",
    "        train_df = pd.read_csv(train_df)\n",
    "        print(train_df.head(5))\n",
    "        return train_df\n"
   ]
  },
  {
   "cell_type": "code",
   "execution_count": 8,
   "metadata": {},
   "outputs": [
    {
     "name": "stdout",
     "output_type": "stream",
     "text": [
      "[2024-02-15 21:48:05,962: INFO: common: yaml file: config\\config.yaml loaded successfully]\n",
      "[2024-02-15 21:48:05,963: INFO: common: yaml file: params.yaml loaded successfully]\n",
      "[2024-02-15 21:48:05,964: INFO: common: created directory at: artifacts]\n",
      "[2024-02-15 21:48:05,965: INFO: common: created directory at: artifacts\\data_preprocessing]\n",
      "      id    target                                       comment_text  \\\n",
      "0  59848  0.000000  This is so cool. It's like, 'would you want yo...   \n",
      "1  59849  0.000000  Thank you!! This would make my life a lot less...   \n",
      "2  59852  0.000000  This is such an urgent design problem; kudos t...   \n",
      "3  59855  0.000000  Is this something I'll be able to install on m...   \n",
      "4  59856  0.893617               haha you guys are a bunch of losers.   \n",
      "\n",
      "   severe_toxicity  obscene  identity_attack   insult  threat  asian  atheist  \\\n",
      "0         0.000000      0.0         0.000000  0.00000     0.0    NaN      NaN   \n",
      "1         0.000000      0.0         0.000000  0.00000     0.0    NaN      NaN   \n",
      "2         0.000000      0.0         0.000000  0.00000     0.0    NaN      NaN   \n",
      "3         0.000000      0.0         0.000000  0.00000     0.0    NaN      NaN   \n",
      "4         0.021277      0.0         0.021277  0.87234     0.0    0.0      0.0   \n",
      "\n",
      "   ...  article_id    rating  funny  wow  sad  likes  disagree  \\\n",
      "0  ...        2006  rejected      0    0    0      0         0   \n",
      "1  ...        2006  rejected      0    0    0      0         0   \n",
      "2  ...        2006  rejected      0    0    0      0         0   \n",
      "3  ...        2006  rejected      0    0    0      0         0   \n",
      "4  ...        2006  rejected      0    0    0      1         0   \n",
      "\n",
      "   sexual_explicit  identity_annotator_count  toxicity_annotator_count  \n",
      "0              0.0                         0                         4  \n",
      "1              0.0                         0                         4  \n",
      "2              0.0                         0                         4  \n",
      "3              0.0                         0                         4  \n",
      "4              0.0                         4                        47  \n",
      "\n",
      "[5 rows x 45 columns]\n"
     ]
    }
   ],
   "source": [
    "try:\n",
    "    config =ConfigurationManager()\n",
    "    data_preprocessing_config =config.get_data_preprocessing_config()\n",
    "    data_preprocessing = DataPreprocessing(config=data_preprocessing_config)\n",
    "    train_df =data_preprocessing.load_file()\n",
    "\n",
    "except Exception as e:\n",
    "    raise e"
   ]
  }
 ],
 "metadata": {
  "kernelspec": {
   "display_name": "toxicsenv",
   "language": "python",
   "name": "python3"
  },
  "language_info": {
   "codemirror_mode": {
    "name": "ipython",
    "version": 3
   },
   "file_extension": ".py",
   "mimetype": "text/x-python",
   "name": "python",
   "nbconvert_exporter": "python",
   "pygments_lexer": "ipython3",
   "version": "3.8.18"
  }
 },
 "nbformat": 4,
 "nbformat_minor": 2
}
